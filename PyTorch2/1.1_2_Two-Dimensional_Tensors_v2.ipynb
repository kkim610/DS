{
 "cells": [
  {
   "cell_type": "markdown",
   "metadata": {
    "id": "iBNcaDfWwOmn"
   },
   "source": [
    "<center>\n",
    "    <img src=\"https://cf-courses-data.s3.us.cloud-object-storage.appdomain.cloud/IBMDeveloperSkillsNetwork-DL0110EN-SkillsNetwork/Template/module%201/images/IDSNlogo.png\" width=\"300\" alt=\"cognitiveclass.ai logo\"  />\n",
    "</center>\n"
   ]
  },
  {
   "cell_type": "markdown",
   "metadata": {
    "id": "gJ4lspwlwOms"
   },
   "source": [
    "<h1>Two-Dimensional Tensors</h1>\n"
   ]
  },
  {
   "cell_type": "markdown",
   "metadata": {
    "id": "O-VkOkTowOms"
   },
   "source": [
    "<h2>Objective</h2><ul><li> How to perform tensor operations on 2D tensors.</li></ul> \n"
   ]
  },
  {
   "cell_type": "markdown",
   "metadata": {
    "id": "BOPxYCx3wOmt"
   },
   "source": [
    "<h2>Table of Contents</h2>\n"
   ]
  },
  {
   "cell_type": "markdown",
   "metadata": {
    "id": "Z2i5g7K6wOmt"
   },
   "source": [
    "<p>In this lab, you will learn the basics of tensor operations on 2D tensors.</p>\n",
    "<ul>\n",
    "    <li><a href=\"https://#Types_Shape\">Types and Shape </a></li>\n",
    "    <li><a href=\"https://#Index_Slice\">Indexing and Slicing</a></li>\n",
    "    <li><a href=\"https://#Tensor_Op\">Tensor Operations</a></li>\n",
    "</ul>\n",
    "\n",
    "<p>Estimated Time Needed: <b>10 min</b></p>\n",
    "<hr>\n"
   ]
  },
  {
   "cell_type": "markdown",
   "metadata": {
    "id": "Uh2zpu19wOmu"
   },
   "source": [
    "<h2>Preparation</h2>\n"
   ]
  },
  {
   "cell_type": "markdown",
   "metadata": {
    "id": "xI50qPkWwOmu"
   },
   "source": [
    "The following are the libraries we are going to use for this lab.\n"
   ]
  },
  {
   "cell_type": "code",
   "execution_count": null,
   "metadata": {
    "executionInfo": {
     "elapsed": 7349,
     "status": "ok",
     "timestamp": 1646964858514,
     "user": {
      "displayName": "Kyeongtaek Kim",
      "photoUrl": "https://lh3.googleusercontent.com/a/default-user=s64",
      "userId": "08065747541550549224"
     },
     "user_tz": -540
    },
    "id": "eViCU8PPwOmv",
    "tags": []
   },
   "outputs": [],
   "source": [
    "# These are the libraries will be used for this lab.\n",
    "\n",
    "import numpy as np \n",
    "import matplotlib.pyplot as plt\n",
    "import torch\n",
    "import pandas as pd"
   ]
  },
  {
   "cell_type": "markdown",
   "metadata": {
    "id": "PdJaehe2wOmw"
   },
   "source": [
    "<!--Empty Space for separating topics-->\n"
   ]
  },
  {
   "cell_type": "markdown",
   "metadata": {
    "id": "NzODuGxrwOmx"
   },
   "source": [
    "<h2 id=\"Types_Shape\">Types and Shape</h2>\n"
   ]
  },
  {
   "cell_type": "markdown",
   "metadata": {
    "id": "GNyJAii-wOmx"
   },
   "source": [
    "The methods and types for 2D tensors is similar to the methods and types for 1D tensors which has been introduced in <i>Previous Lab</i>.\n"
   ]
  },
  {
   "cell_type": "markdown",
   "metadata": {
    "id": "vtVS2WLmwOmx"
   },
   "source": [
    "Let us see how to convert a 2D list to a 2D tensor. First, let us create a 3X3 2D tensor. Then let us try to use <code>torch.tensor()</code> which we used for converting a 1D list to 1D tensor. Is it going to work?\n"
   ]
  },
  {
   "cell_type": "code",
   "execution_count": null,
   "metadata": {
    "colab": {
     "base_uri": "https://localhost:8080/"
    },
    "executionInfo": {
     "elapsed": 7,
     "status": "ok",
     "timestamp": 1646964863212,
     "user": {
      "displayName": "Kyeongtaek Kim",
      "photoUrl": "https://lh3.googleusercontent.com/a/default-user=s64",
      "userId": "08065747541550549224"
     },
     "user_tz": -540
    },
    "id": "2rQBmxAdwOmy",
    "outputId": "a07bfc6e-6937-47d8-818e-9b870acd680e"
   },
   "outputs": [],
   "source": [
    "# Convert 2D List to 2D Tensor\n",
    "\n",
    "twoD_list = [[11, 12, 13], [21, 22, 23], [31, 32, 33]]\n",
    "twoD_tensor = torch.tensor(twoD_list)\n",
    "print(\"The New 2D Tensor: \", twoD_tensor)"
   ]
  },
  {
   "cell_type": "markdown",
   "metadata": {
    "id": "JKh6IbKMwOmy"
   },
   "source": [
    "Bravo! The method <code>torch.tensor()</code> works perfectly.Now, let us try other functions we studied in the <i>Previous Lab</i>.\n"
   ]
  },
  {
   "cell_type": "markdown",
   "metadata": {
    "id": "fxrsck3DwOmz"
   },
   "source": [
    "<!--Empty Space for separating topics-->\n"
   ]
  },
  {
   "cell_type": "markdown",
   "metadata": {
    "id": "3ACTESlJwOmz"
   },
   "source": [
    "Let us try <code><i>tensor_obj</i>.ndimension()</code> (<code>tensor_obj</code>: This can be any tensor object), <code><i>tensor_obj</i>.shape</code>, and <code><i>tensor_obj</i>.size()</code>\n"
   ]
  },
  {
   "cell_type": "code",
   "execution_count": null,
   "metadata": {
    "colab": {
     "base_uri": "https://localhost:8080/"
    },
    "executionInfo": {
     "elapsed": 287,
     "status": "ok",
     "timestamp": 1646964878087,
     "user": {
      "displayName": "Kyeongtaek Kim",
      "photoUrl": "https://lh3.googleusercontent.com/a/default-user=s64",
      "userId": "08065747541550549224"
     },
     "user_tz": -540
    },
    "id": "BdexT8n8wOmz",
    "outputId": "33bb7afc-f355-4058-a2ed-7aa24f4cee55"
   },
   "outputs": [],
   "source": [
    "# Try tensor_obj.ndimension(), tensor_obj.shape, tensor_obj.size()\n",
    "\n",
    "print(\"The dimension of twoD_tensor: \", twoD_tensor.ndimension())\n",
    "print(\"The shape of twoD_tensor: \", twoD_tensor.shape)\n",
    "print(\"The shape of twoD_tensor: \", twoD_tensor.size())\n",
    "print(\"The number of elements in twoD_tensor: \", twoD_tensor.numel())"
   ]
  },
  {
   "cell_type": "markdown",
   "metadata": {
    "id": "tGI2r19FwOmz"
   },
   "source": [
    "Because it is a 2D 3X3 tensor,  the outputs are correct.\n"
   ]
  },
  {
   "cell_type": "markdown",
   "metadata": {
    "id": "AEe6k6HowOmz"
   },
   "source": [
    "<!--Empty Space for separating topics-->\n"
   ]
  },
  {
   "cell_type": "markdown",
   "metadata": {
    "id": "vKbtbEiQwOm0"
   },
   "source": [
    "Now, let us try converting the tensor to a numpy array and convert the numpy array back to a tensor.\n"
   ]
  },
  {
   "cell_type": "code",
   "execution_count": null,
   "metadata": {
    "colab": {
     "base_uri": "https://localhost:8080/"
    },
    "executionInfo": {
     "elapsed": 274,
     "status": "ok",
     "timestamp": 1646965222662,
     "user": {
      "displayName": "Kyeongtaek Kim",
      "photoUrl": "https://lh3.googleusercontent.com/a/default-user=s64",
      "userId": "08065747541550549224"
     },
     "user_tz": -540
    },
    "id": "_pXDn6JGwOm0",
    "outputId": "0feec09a-3ab5-4d46-bf06-1f21f4c1e2d8"
   },
   "outputs": [],
   "source": [
    "# Convert tensor to numpy array; Convert numpy array to tensor\n",
    "\n",
    "twoD_numpy = twoD_tensor.numpy()\n",
    "print(\"Tensor -> Numpy Array:\")\n",
    "print(\"The numpy array after converting: \", twoD_numpy)\n",
    "print(\"Type after converting: \", twoD_numpy.dtype)\n",
    "\n",
    "print(\"================================================\")\n",
    "\n",
    "new_twoD_tensor = torch.from_numpy(twoD_numpy)\n",
    "print(\"Numpy Array -> Tensor:\")\n",
    "print(\"The tensor after converting:\", new_twoD_tensor)\n",
    "print(\"Type after converting: \", new_twoD_tensor.dtype)"
   ]
  },
  {
   "cell_type": "markdown",
   "metadata": {
    "id": "8qoiX2_EwOm0"
   },
   "source": [
    "The result shows the tensor has successfully been converted to a numpy array and then converted back to a tensor.\n"
   ]
  },
  {
   "cell_type": "markdown",
   "metadata": {
    "id": "4L66DpOiwOm0"
   },
   "source": [
    "<!--Empty Space for separating topics-->\n"
   ]
  },
  {
   "cell_type": "markdown",
   "metadata": {
    "id": "p0-rwdXIwOm1"
   },
   "source": [
    "Now let us try to convert a Pandas Dataframe to a tensor. The process is the  Same as the 1D conversion, we can obtain the numpy array via the attribute <code>values</code>. Then, we can use <code>torch.from_numpy()</code> to convert the value of the Pandas Series to a tensor.\n"
   ]
  },
  {
   "cell_type": "code",
   "execution_count": null,
   "metadata": {
    "colab": {
     "base_uri": "https://localhost:8080/"
    },
    "executionInfo": {
     "elapsed": 280,
     "status": "ok",
     "timestamp": 1646965481921,
     "user": {
      "displayName": "Kyeongtaek Kim",
      "photoUrl": "https://lh3.googleusercontent.com/a/default-user=s64",
      "userId": "08065747541550549224"
     },
     "user_tz": -540
    },
    "id": "S5DnjRQewOm1",
    "outputId": "2db84889-4272-4fb9-92e1-2a2cb2c41cdd"
   },
   "outputs": [],
   "source": [
    "# Try to convert the Panda Dataframe to tensor\n",
    "\n",
    "df = pd.DataFrame({'a':[11,21,31],'b':[12,22,312]})\n",
    "print(\"df\",df)\n",
    "print(\"Pandas Dataframe to numpy:\\n \", df.values)\n",
    "print(\"Type BEFORE converting: \", df.values.dtype)\n",
    "\n",
    "print(\"================================================\")\n",
    "\n",
    "new_tensor = torch.from_numpy(df.values)\n",
    "print(\"Tensor AFTER converting: \", new_tensor)\n",
    "print(\"Type AFTER converting: \", new_tensor.dtype)"
   ]
  },
  {
   "cell_type": "code",
   "execution_count": null,
   "metadata": {
    "colab": {
     "base_uri": "https://localhost:8080/"
    },
    "executionInfo": {
     "elapsed": 283,
     "status": "ok",
     "timestamp": 1646965359811,
     "user": {
      "displayName": "Kyeongtaek Kim",
      "photoUrl": "https://lh3.googleusercontent.com/a/default-user=s64",
      "userId": "08065747541550549224"
     },
     "user_tz": -540
    },
    "id": "qSncJLoFyM1f",
    "outputId": "6fa88ebc-d048-4d00-d514-df697a32bec7"
   },
   "outputs": [],
   "source": [
    "df.shape"
   ]
  },
  {
   "cell_type": "code",
   "execution_count": null,
   "metadata": {
    "colab": {
     "base_uri": "https://localhost:8080/"
    },
    "executionInfo": {
     "elapsed": 284,
     "status": "ok",
     "timestamp": 1646965380243,
     "user": {
      "displayName": "Kyeongtaek Kim",
      "photoUrl": "https://lh3.googleusercontent.com/a/default-user=s64",
      "userId": "08065747541550549224"
     },
     "user_tz": -540
    },
    "id": "iO9ROJ7qyQ99",
    "outputId": "aa10684d-3382-40f1-8990-c6a74ebd7c81"
   },
   "outputs": [],
   "source": [
    "new_tensor.shape"
   ]
  },
  {
   "cell_type": "markdown",
   "metadata": {
    "id": "Pq_8R03ywOm1"
   },
   "source": [
    "<!--Empty Space for separating topics-->\n"
   ]
  },
  {
   "cell_type": "markdown",
   "metadata": {
    "id": "mhFuCwrCwOm1"
   },
   "source": [
    "<!--Empty Space for separating topics-->\n"
   ]
  },
  {
   "cell_type": "markdown",
   "metadata": {
    "id": "88ipaeJYwOm2"
   },
   "source": [
    "<h3>Practice</h3>\n"
   ]
  },
  {
   "cell_type": "markdown",
   "metadata": {
    "id": "M4aQFWD3wOm2"
   },
   "source": [
    "Try to convert the following Pandas Dataframe  to a tensor\n"
   ]
  },
  {
   "cell_type": "code",
   "execution_count": null,
   "metadata": {
    "id": "w7rBqfOxwOm2"
   },
   "outputs": [],
   "source": [
    "# Practice: try to convert Pandas Series to tensor\n",
    "\n",
    "df = pd.DataFrame({'A':[11, 33, 22],'B':[3, 3, 2]})"
   ]
  },
  {
   "cell_type": "markdown",
   "metadata": {
    "id": "8AL51LbCwOm2"
   },
   "source": [
    "Double-click <b>here</b> for the solution.\n",
    "\n",
    "<!--\n",
    "converted_tensor = torch.tensor(df.values)\n",
    "print (\"Tensor: \", converted_tensor)\n",
    "-->\n"
   ]
  },
  {
   "cell_type": "markdown",
   "metadata": {
    "id": "Y3tE3CEHwOm2"
   },
   "source": [
    "<h2 id=\"Index_Slice\">Indexing and Slicing</h2>\n"
   ]
  },
  {
   "cell_type": "markdown",
   "metadata": {
    "id": "l1PgqftwwOm2"
   },
   "source": [
    "You can use rectangular brackets to access the different elements of the tensor. The correspondence between the rectangular brackets and the list and the rectangular representation is shown in the following figure for a 3X3 tensor:\n"
   ]
  },
  {
   "cell_type": "markdown",
   "metadata": {
    "id": "viZ591HowOm2"
   },
   "source": [
    "<img src=\"https://s3-api.us-geo.objectstorage.softlayer.net/cf-courses-data/CognitiveClass/DL0110EN/notebook_images%20/chapter%201/1.2index1.png\" width=500 alt=\"Matrix Structure Introduce\">\n"
   ]
  },
  {
   "cell_type": "markdown",
   "metadata": {
    "id": "b4B64m92wOm5"
   },
   "source": [
    "You can access the 2nd-row 3rd-column as shown in the following figure:\n"
   ]
  },
  {
   "cell_type": "markdown",
   "metadata": {
    "id": "L_kuKW8FwOm5"
   },
   "source": [
    "<img src=\"https://s3-api.us-geo.objectstorage.softlayer.net/cf-courses-data/CognitiveClass/DL0110EN/notebook_images%20/chapter%201/1.2index.png\" width=\"500\" alt=\"Example of Matrix Index\">\n"
   ]
  },
  {
   "cell_type": "markdown",
   "metadata": {
    "id": "BAa3CQ_wwOm6"
   },
   "source": [
    "You simply use the square brackets and the indices corresponding to the element that you want.\n"
   ]
  },
  {
   "cell_type": "markdown",
   "metadata": {
    "id": "4ojhb5sgwOm6"
   },
   "source": [
    "Now, let us try to access the value on position 2nd-row 3rd-column. Remember that the index is always 1 less than how we count rows and columns. There are two ways to access the certain value of a tensor. The example in code will be the same as the example picture above.\n"
   ]
  },
  {
   "cell_type": "code",
   "execution_count": null,
   "metadata": {
    "colab": {
     "base_uri": "https://localhost:8080/"
    },
    "executionInfo": {
     "elapsed": 279,
     "status": "ok",
     "timestamp": 1646965523588,
     "user": {
      "displayName": "Kyeongtaek Kim",
      "photoUrl": "https://lh3.googleusercontent.com/a/default-user=s64",
      "userId": "08065747541550549224"
     },
     "user_tz": -540
    },
    "id": "AyjBHibpwOm6",
    "outputId": "7e1fc79e-da75-47b5-cbb3-a0b28841c8e6"
   },
   "outputs": [],
   "source": [
    "# Use tensor_obj[row, column] and tensor_obj[row][column] to access certain position\n",
    "\n",
    "tensor_example = torch.tensor([[11, 12, 13], [21, 22, 23], [31, 32, 33]])\n",
    "print(\"What is the value on 2nd-row 3rd-column? \", tensor_example[1, 2])\n",
    "print(\"What is the value on 2nd-row 3rd-column? \", tensor_example[1][2])"
   ]
  },
  {
   "cell_type": "markdown",
   "metadata": {
    "id": "gLM2IbpnwOm7"
   },
   "source": [
    "As we can see, both methods return the true value (the same value as the picture above). Therefore, both of the methods work.\n"
   ]
  },
  {
   "cell_type": "markdown",
   "metadata": {
    "id": "kJfZjA4ywOm7"
   },
   "source": [
    "<!--Empty Space for separating topics-->\n"
   ]
  },
  {
   "cell_type": "markdown",
   "metadata": {
    "id": "hydIV8QkwOm7"
   },
   "source": [
    "Consider the elements shown in the following figure:\n"
   ]
  },
  {
   "cell_type": "markdown",
   "metadata": {
    "id": "aHpk7leswOm7"
   },
   "source": [
    "<img src=\"https://s3-api.us-geo.objectstorage.softlayer.net/cf-courses-data/CognitiveClass/DL0110EN/notebook_images%20/chapter%201/1.2_index2.png\" width=\"500\" alt=\"Example of Matrix Index\" />\n"
   ]
  },
  {
   "cell_type": "markdown",
   "metadata": {
    "id": "iLL45aBtwOm8"
   },
   "source": [
    "Use the method above, we can access the 1st-row 1st-column by <code>tensor_example\\[0]\\[0]</code>\n"
   ]
  },
  {
   "cell_type": "code",
   "execution_count": null,
   "metadata": {
    "colab": {
     "base_uri": "https://localhost:8080/"
    },
    "executionInfo": {
     "elapsed": 280,
     "status": "ok",
     "timestamp": 1646965544788,
     "user": {
      "displayName": "Kyeongtaek Kim",
      "photoUrl": "https://lh3.googleusercontent.com/a/default-user=s64",
      "userId": "08065747541550549224"
     },
     "user_tz": -540
    },
    "id": "0IADV5X0wOm8",
    "outputId": "b048e71d-b266-4524-baec-74fe94b74724"
   },
   "outputs": [],
   "source": [
    "tensor_example[0][0]"
   ]
  },
  {
   "cell_type": "markdown",
   "metadata": {
    "id": "WzJ7RWoRwOm8"
   },
   "source": [
    "But what if we want to get the value on both 1st-row 1st-column and 1st-row 2nd-column?\n"
   ]
  },
  {
   "cell_type": "markdown",
   "metadata": {
    "id": "2KYLtPSJwOm8"
   },
   "source": [
    "You can also use slicing in a tensor. Consider the following figure. You want to obtain the 1st two columns in the 1st row:\n"
   ]
  },
  {
   "cell_type": "markdown",
   "metadata": {
    "id": "uGHRuXupwOm9"
   },
   "source": [
    "<img src=\"https://s3-api.us-geo.objectstorage.softlayer.net/cf-courses-data/CognitiveClass/DL0110EN/notebook_images%20/chapter%201/1.2sliceing.png\" width=\"500\" alt=\"Example of Matrix Index and Slicing\" />\n"
   ]
  },
  {
   "cell_type": "markdown",
   "metadata": {
    "id": "FAVyYuNrwOm9"
   },
   "source": [
    "## Let us see how  we use slicing with 2D tensors to get the values in the above picture.\n"
   ]
  },
  {
   "cell_type": "code",
   "execution_count": null,
   "metadata": {
    "colab": {
     "base_uri": "https://localhost:8080/"
    },
    "executionInfo": {
     "elapsed": 268,
     "status": "ok",
     "timestamp": 1646965550719,
     "user": {
      "displayName": "Kyeongtaek Kim",
      "photoUrl": "https://lh3.googleusercontent.com/a/default-user=s64",
      "userId": "08065747541550549224"
     },
     "user_tz": -540
    },
    "id": "fpYwPrLowOm9",
    "outputId": "2ef95aab-5c6a-4113-e09c-58998433db1b"
   },
   "outputs": [],
   "source": [
    "# Use tensor_obj[begin_row_number: end_row_number, begin_column_number: end_column number] \n",
    "# and tensor_obj[row][begin_column_number: end_column number] to do the slicing\n",
    "\n",
    "tensor_example = torch.tensor([[11, 12, 13], [21, 22, 23], [31, 32, 33]])\n",
    "print(\"What is the value on 1st-row first two columns? \", tensor_example[0, 0:2])\n",
    "print(\"What is the value on 1st-row first two columns? \", tensor_example[0][0:2])"
   ]
  },
  {
   "cell_type": "markdown",
   "metadata": {
    "id": "LE1GSeL2wOm-"
   },
   "source": [
    "We get the result as <code>tensor(\\[11, 12])</code> successfully.\n"
   ]
  },
  {
   "cell_type": "markdown",
   "metadata": {
    "id": "LrD_FeHrwOm-"
   },
   "source": [
    "<!--Empty Space for separating topics-->\n"
   ]
  },
  {
   "cell_type": "markdown",
   "metadata": {
    "id": "fBfgXp8twOm-"
   },
   "source": [
    "But we <b>can't</b> combine using slicing on row and pick one column by using the code <code>tensor_obj\\[begin_row_number: end_row_number]\\[begin_column_number: end_column number]</code>. The reason is that the slicing will be applied on the tensor first. The result type will be a two dimension again. The second bracket will no longer represent the index of the column it will be the index of the row at that time. Let us see an example.\n"
   ]
  },
  {
   "cell_type": "code",
   "execution_count": null,
   "metadata": {
    "colab": {
     "base_uri": "https://localhost:8080/"
    },
    "executionInfo": {
     "elapsed": 9,
     "status": "ok",
     "timestamp": 1646965551011,
     "user": {
      "displayName": "Kyeongtaek Kim",
      "photoUrl": "https://lh3.googleusercontent.com/a/default-user=s64",
      "userId": "08065747541550549224"
     },
     "user_tz": -540
    },
    "id": "3P16fgYBwOm-",
    "outputId": "c2b7f4a8-0a44-4794-fa15-5a65024722f4"
   },
   "outputs": [],
   "source": [
    "# Give an idea on tensor_obj[number: number][number]\n",
    "\n",
    "tensor_example = torch.tensor([[11, 12, 13], [21, 22, 23], [31, 32, 33]])\n",
    "sliced_tensor_example = tensor_example[1:3]\n",
    "print(\"1. Slicing step on tensor_example: \")\n",
    "print(\"Result after tensor_example[1:3]: \", sliced_tensor_example)\n",
    "print(\"Dimension after tensor_example[1:3]: \", sliced_tensor_example.ndimension())\n",
    "print(\"================================================\")\n",
    "print(\"2. Pick an index on sliced_tensor_example: \")\n",
    "print(\"Result after sliced_tensor_example[1]: \", sliced_tensor_example[1])\n",
    "print(\"Dimension after sliced_tensor_example[1]: \", sliced_tensor_example[1].ndimension())\n",
    "print(\"================================================\")\n",
    "print(\"3. Combine these step together:\")\n",
    "print(\"Result: \", tensor_example[1:3][1])\n",
    "print(\"Dimension: \", tensor_example[1:3][1].ndimension())"
   ]
  },
  {
   "cell_type": "markdown",
   "metadata": {
    "id": "9eLqKMObwOm_"
   },
   "source": [
    "See the results and dimensions in 2 and 3 are the same. Both of them contains the 3rd row in the <code>tensor_example</code>, but not the last two values in the 3rd column.\n"
   ]
  },
  {
   "cell_type": "markdown",
   "metadata": {
    "id": "-et_PD35wOm_"
   },
   "source": [
    "<!--Empty Space for separating topics-->\n"
   ]
  },
  {
   "cell_type": "markdown",
   "metadata": {
    "id": "DfxwtsA6wOm_"
   },
   "source": [
    "So how can we get the elements in the 3rd column with the last two rows? As the below picture.\n"
   ]
  },
  {
   "cell_type": "markdown",
   "metadata": {
    "id": "nTfkXJHKwOm_"
   },
   "source": [
    "<img src=\"https://s3-api.us-geo.objectstorage.softlayer.net/cf-courses-data/CognitiveClass/DL0110EN/notebook_images%20/chapter%201/1.2slicing2.png\" width=\"500\" alt=\"Example of Matrix Index and Slicing\" />\n"
   ]
  },
  {
   "cell_type": "markdown",
   "metadata": {
    "id": "nY_XUbRMwOnA"
   },
   "source": [
    "Let's see the code below.\n"
   ]
  },
  {
   "cell_type": "code",
   "execution_count": null,
   "metadata": {
    "colab": {
     "base_uri": "https://localhost:8080/"
    },
    "executionInfo": {
     "elapsed": 9,
     "status": "ok",
     "timestamp": 1646965551012,
     "user": {
      "displayName": "Kyeongtaek Kim",
      "photoUrl": "https://lh3.googleusercontent.com/a/default-user=s64",
      "userId": "08065747541550549224"
     },
     "user_tz": -540
    },
    "id": "u4urHvuXwOnA",
    "outputId": "8d7dc578-1c73-4ba2-bd34-410104d652c5"
   },
   "outputs": [],
   "source": [
    "# Use tensor_obj[begin_row_number: end_row_number, begin_column_number: end_column number] \n",
    "\n",
    "tensor_example = torch.tensor([[11, 12, 13], [21, 22, 23], [31, 32, 33]])\n",
    "print(\"What is the value on 3rd-column last two rows? \", tensor_example[1:3, 2])"
   ]
  },
  {
   "cell_type": "markdown",
   "metadata": {
    "id": "BKfpsuQOwOnA"
   },
   "source": [
    "Fortunately, the code <code>tensor_obj\\[begin_row_number: end_row_number, begin_column_number: end_column number]</code> is still works.\n"
   ]
  },
  {
   "cell_type": "markdown",
   "metadata": {
    "id": "g39QIAqQwOnA"
   },
   "source": [
    "<!--Empty Space for separating topics-->\n"
   ]
  },
  {
   "cell_type": "markdown",
   "metadata": {
    "id": "vGWw34KawOnB"
   },
   "source": [
    "<h3>Practice</h3>\n"
   ]
  },
  {
   "cell_type": "markdown",
   "metadata": {
    "id": "HvA3zgMNwOnB"
   },
   "source": [
    "Try to change the values on the second column and the last two rows to 0. Basically, change the values on <code>tensor_ques\\[1]\\[1]</code> and <code>tensor_ques\\[2]\\[1]</code> to 0.\n"
   ]
  },
  {
   "cell_type": "code",
   "execution_count": null,
   "metadata": {
    "executionInfo": {
     "elapsed": 8,
     "status": "ok",
     "timestamp": 1646965551012,
     "user": {
      "displayName": "Kyeongtaek Kim",
      "photoUrl": "https://lh3.googleusercontent.com/a/default-user=s64",
      "userId": "08065747541550549224"
     },
     "user_tz": -540
    },
    "id": "OakyirqSwOnB"
   },
   "outputs": [],
   "source": [
    "# Practice: Use slice and index to change the values on the matrix tensor_ques.\n",
    "\n",
    "tensor_ques = torch.tensor([[11, 12, 13], [21, 22, 23], [31, 32, 33]])\n"
   ]
  },
  {
   "cell_type": "markdown",
   "metadata": {
    "id": "DL0en83vwOnB"
   },
   "source": [
    "Double-click <b>here</b> for the solution.\n",
    "\n",
    "<!--\n",
    "tensor_ques[1:3, 1] = 0\n",
    "print(\"The result: \", tensor_ques)\n",
    "-->\n"
   ]
  },
  {
   "cell_type": "markdown",
   "metadata": {
    "id": "I9_Jtur4wOnC"
   },
   "source": [
    "<!--Empty Space for separating topics-->\n"
   ]
  },
  {
   "cell_type": "markdown",
   "metadata": {
    "id": "KFgGoajswOnC"
   },
   "source": [
    "<h2 id=\"Tensor_Op\">Tensor Operations</h2> \n"
   ]
  },
  {
   "cell_type": "markdown",
   "metadata": {
    "id": "_iE2X_W_wOnC"
   },
   "source": [
    "We can also do some calculations on 2D tensors.\n"
   ]
  },
  {
   "cell_type": "markdown",
   "metadata": {
    "id": "0dpTQJKPwOnD"
   },
   "source": [
    "<!--Empty Space for separating topics-->\n"
   ]
  },
  {
   "cell_type": "markdown",
   "metadata": {
    "id": "061p3PM9wOnD"
   },
   "source": [
    "<h3>Tensor Addition</h3>\n"
   ]
  },
  {
   "cell_type": "markdown",
   "metadata": {
    "id": "astNIUu_wOnD"
   },
   "source": [
    "You can also add tensors; the process is identical to matrix addition. Matrix addition of <b>X</b> and <b>Y</b> is shown in the following figure:\n"
   ]
  },
  {
   "cell_type": "markdown",
   "metadata": {
    "id": "Y50iQx21wOnD"
   },
   "source": [
    "<img src=\"https://s3-api.us-geo.objectstorage.softlayer.net/cf-courses-data/CognitiveClass/DL0110EN/notebook_images%20/chapter%201/1.2add.png\" width=\"500\" alt=\"Tensor Addition in 2D\">\n"
   ]
  },
  {
   "cell_type": "markdown",
   "metadata": {
    "id": "0IlnyTpOwOnE"
   },
   "source": [
    "Let us see how tensor addition works with <code>X</code> and <code>Y</code>.\n"
   ]
  },
  {
   "cell_type": "code",
   "execution_count": null,
   "metadata": {
    "colab": {
     "base_uri": "https://localhost:8080/"
    },
    "executionInfo": {
     "elapsed": 8,
     "status": "ok",
     "timestamp": 1646965551012,
     "user": {
      "displayName": "Kyeongtaek Kim",
      "photoUrl": "https://lh3.googleusercontent.com/a/default-user=s64",
      "userId": "08065747541550549224"
     },
     "user_tz": -540
    },
    "id": "jdukIBzpwOnE",
    "outputId": "0cf0dbb7-fbef-4964-bece-e06784f35da8"
   },
   "outputs": [],
   "source": [
    "# Calculate [[1, 0], [0, 1]] + [[2, 1], [1, 2]]\n",
    "\n",
    "X = torch.tensor([[1, 0],[0, 1]]) \n",
    "Y = torch.tensor([[2, 1],[1, 2]])\n",
    "X_plus_Y = X + Y\n",
    "print(\"The result of X + Y: \", X_plus_Y)"
   ]
  },
  {
   "cell_type": "markdown",
   "metadata": {
    "id": "7xFvqiIcwOnE"
   },
   "source": [
    "Like the result shown in the picture above. The result is <code>\\[\\[3, 1], \\[1, 3]]</code>\n"
   ]
  },
  {
   "cell_type": "markdown",
   "metadata": {
    "id": "ioGogkJvwOnF"
   },
   "source": [
    "<!--Empty Space for separating topics-->\n"
   ]
  },
  {
   "cell_type": "markdown",
   "metadata": {
    "id": "-e3l9m7gwOnF"
   },
   "source": [
    "<h3> Scalar Multiplication </h3>\n"
   ]
  },
  {
   "cell_type": "markdown",
   "metadata": {
    "id": "iywJXCkQwOnG"
   },
   "source": [
    "Multiplying a tensor by a scalar is identical to multiplying a matrix by a scaler. If you multiply the matrix <b>Y</b> by the scalar 2, you simply multiply every element in the matrix by 2 as shown in the figure:\n"
   ]
  },
  {
   "cell_type": "markdown",
   "metadata": {
    "id": "nHID91HqwOnG"
   },
   "source": [
    "<img src=\"https://s3-api.us-geo.objectstorage.softlayer.net/cf-courses-data/CognitiveClass/DL0110EN/notebook_images%20/chapter%201/1.2scaller_mult.png\" width=\"500\" alt=\"The product of tensor and scalar\">\n"
   ]
  },
  {
   "cell_type": "markdown",
   "metadata": {
    "id": "ORdU1HCzwOnG"
   },
   "source": [
    "Let us try to calculate the product of <b>2Y</b>.\n"
   ]
  },
  {
   "cell_type": "code",
   "execution_count": null,
   "metadata": {
    "colab": {
     "base_uri": "https://localhost:8080/"
    },
    "executionInfo": {
     "elapsed": 8,
     "status": "ok",
     "timestamp": 1646965551013,
     "user": {
      "displayName": "Kyeongtaek Kim",
      "photoUrl": "https://lh3.googleusercontent.com/a/default-user=s64",
      "userId": "08065747541550549224"
     },
     "user_tz": -540
    },
    "id": "qONX2mLGwOnG",
    "outputId": "25457468-eadb-487f-85e0-afbb112e20e5"
   },
   "outputs": [],
   "source": [
    "# Calculate 2 * [[2, 1], [1, 2]]\n",
    "\n",
    "Y = torch.tensor([[2, 1], [1, 2]]) \n",
    "two_Y = 2 * Y\n",
    "print(\"The result of 2Y: \", two_Y)"
   ]
  },
  {
   "cell_type": "markdown",
   "metadata": {
    "id": "IQrHOmKkwOnH"
   },
   "source": [
    "<!--Empty Space for separating topics-->\n"
   ]
  },
  {
   "cell_type": "markdown",
   "metadata": {
    "id": "Xh5Hxn24wOnH"
   },
   "source": [
    "<h3>Element-wise Product/Hadamard Product</h3>\n"
   ]
  },
  {
   "cell_type": "markdown",
   "metadata": {
    "id": "cQtoRxA4wOnH"
   },
   "source": [
    "Multiplication of two tensors corresponds to an element-wise product or Hadamard product.  Consider matrix the <b>X</b> and <b>Y</b> with the same size. The Hadamard product corresponds to multiplying each of the elements at the same position, that is, multiplying elements with the same color together. The result is a new matrix that is the same size as matrix <b>X</b> and <b>Y</b> as shown in the following figure:\n"
   ]
  },
  {
   "cell_type": "markdown",
   "metadata": {
    "id": "nfbZlY1ywOnI"
   },
   "source": [
    "<a><img src=\"https://s3-api.us-geo.objectstorage.softlayer.net/cf-courses-data/CognitiveClass/DL0110EN/notebook_images%20/chapter%201/1.2tensor_pruduct.png\" width=500 align=\"center\"> </a>\n"
   ]
  },
  {
   "cell_type": "markdown",
   "metadata": {
    "id": "Rb30cbUdwOnI"
   },
   "source": [
    "The code below calculates the element-wise product of the tensor <strong>X</strong> and <strong>Y</strong>:\n"
   ]
  },
  {
   "cell_type": "code",
   "execution_count": null,
   "metadata": {
    "colab": {
     "base_uri": "https://localhost:8080/"
    },
    "executionInfo": {
     "elapsed": 7,
     "status": "ok",
     "timestamp": 1646965551013,
     "user": {
      "displayName": "Kyeongtaek Kim",
      "photoUrl": "https://lh3.googleusercontent.com/a/default-user=s64",
      "userId": "08065747541550549224"
     },
     "user_tz": -540
    },
    "id": "ckNPcbT_wOnI",
    "outputId": "5100776c-37c7-4006-b639-7a7d0660a454"
   },
   "outputs": [],
   "source": [
    "# Calculate [[1, 0], [0, 1]] * [[2, 1], [1, 2]]\n",
    "\n",
    "X = torch.tensor([[1, 0], [0, 1]])\n",
    "Y = torch.tensor([[2, 1], [1, 2]]) \n",
    "X_times_Y = X * Y\n",
    "print(\"The result of X * Y: \", X_times_Y)"
   ]
  },
  {
   "cell_type": "markdown",
   "metadata": {
    "id": "uxWtSSEMwOnI"
   },
   "source": [
    "This is a simple calculation. The result from the code matches the result shown in the picture.\n"
   ]
  },
  {
   "cell_type": "markdown",
   "metadata": {
    "id": "TBasIMVtwOnI"
   },
   "source": [
    "<!--Empty Space for separating topics-->\n"
   ]
  },
  {
   "cell_type": "markdown",
   "metadata": {
    "id": "fh_yqNF-wOnJ"
   },
   "source": [
    "<h3>Matrix Multiplication </h3>\n"
   ]
  },
  {
   "cell_type": "markdown",
   "metadata": {
    "id": "TOVTwhrSwOnJ"
   },
   "source": [
    "We can also apply matrix multiplication to two tensors, if you have learned linear algebra, you should know that in the multiplication of two matrices order matters. This means if <i>X \\* Y</i> is valid, it does not mean <i>Y \\* X</i> is valid. The number of columns of the matrix on the left side of the multiplication sign must equal to the number of rows of the matrix on the right side.\n"
   ]
  },
  {
   "cell_type": "markdown",
   "metadata": {
    "id": "FDHr-7TuwOnJ"
   },
   "source": [
    "First, let us create a tensor <code>X</code> with size 2X3. Then, let us create another tensor <code>Y</code> with size 3X2. Since the number of columns of <code>X</code> is equal to the number of rows of <code>Y</code>. We are able to perform the multiplication.\n"
   ]
  },
  {
   "cell_type": "markdown",
   "metadata": {
    "id": "qBb5fxBKwOnJ"
   },
   "source": [
    "We use <code>torch.mm()</code> for calculating the multiplication between tensors with different sizes.\n"
   ]
  },
  {
   "cell_type": "code",
   "execution_count": null,
   "metadata": {
    "colab": {
     "base_uri": "https://localhost:8080/"
    },
    "executionInfo": {
     "elapsed": 343,
     "status": "ok",
     "timestamp": 1646965551351,
     "user": {
      "displayName": "Kyeongtaek Kim",
      "photoUrl": "https://lh3.googleusercontent.com/a/default-user=s64",
      "userId": "08065747541550549224"
     },
     "user_tz": -540
    },
    "id": "Sdh9ZG1ewOnK",
    "outputId": "9807f5e8-2906-48d6-d6bb-86ec1a636f06"
   },
   "outputs": [],
   "source": [
    "# Calculate [[0, 1, 1], [1, 0, 1]] * [[1, 1], [1, 1], [-1, 1]]\n",
    "\n",
    "A = torch.tensor([[0, 1, 1], [1, 0, 1]])\n",
    "B = torch.tensor([[1, 1], [1, 1], [-1, 1]])\n",
    "A_times_B = torch.mm(A,B)\n",
    "print(\"The result of A * B: \", A_times_B)"
   ]
  },
  {
   "cell_type": "markdown",
   "metadata": {
    "id": "Vtwfp5hOwOnK"
   },
   "source": [
    "<!--Empty Space for separating topics-->\n"
   ]
  },
  {
   "cell_type": "markdown",
   "metadata": {
    "id": "SkK0ZTkEwOnK"
   },
   "source": [
    "<h3>Practice</h3>\n"
   ]
  },
  {
   "cell_type": "markdown",
   "metadata": {
    "id": "guEZKHy0wOnK"
   },
   "source": [
    "Try to create your own two tensors (<code>X</code> and <code>Y</code>) with different sizes, and multiply them.\n"
   ]
  },
  {
   "cell_type": "code",
   "execution_count": null,
   "metadata": {
    "executionInfo": {
     "elapsed": 7,
     "status": "ok",
     "timestamp": 1646965551353,
     "user": {
      "displayName": "Kyeongtaek Kim",
      "photoUrl": "https://lh3.googleusercontent.com/a/default-user=s64",
      "userId": "08065747541550549224"
     },
     "user_tz": -540
    },
    "id": "HeNWp-HjwOnL"
   },
   "outputs": [],
   "source": [
    "# Practice: Calculate the product of two tensors (X and Y) with different sizes \n",
    "\n",
    "# Type your code here"
   ]
  },
  {
   "cell_type": "markdown",
   "metadata": {
    "id": "eNsqwDdnwOnL"
   },
   "source": [
    "Double-click <b>here</b> for the solution.\n",
    "\n",
    "<!--\n",
    "X = torch.tensor([[0, 1], [1, 2]])\n",
    "Y = torch.tensor([[-1, -2, 0], [2, 1, 2]])\n",
    "X_times_Y = torch.mm(X, Y)\n",
    "print(\"The result of X * Y: \", X_times_Y)\n",
    "-->\n"
   ]
  },
  {
   "cell_type": "markdown",
   "metadata": {
    "id": "rEbyw-G7wOnL"
   },
   "source": [
    "<a href=\"https://dataplatform.cloud.ibm.com/registration/stepone?utm_medium=Exinfluencer&utm_source=Exinfluencer&utm_content=000026UJ&utm_term=10006555&utm_id=NA-SkillsNetwork-Channel-SkillsNetworkCoursesIBMDeveloperSkillsNetworkDL0110ENSkillsNetwork20647811-2021-01-01&context=cpdaas&apps=data_science_experience%2Cwatson_machine_learning\"><img src=\"https://cf-courses-data.s3.us.cloud-object-storage.appdomain.cloud/IBMDeveloperSkillsNetwork-DL0110EN-SkillsNetwork/Template/module%201/images/Watson_Studio.png\"/></a>\n"
   ]
  },
  {
   "cell_type": "markdown",
   "metadata": {
    "id": "DCJJF1GqwOnM"
   },
   "source": [
    "<!--Empty Space for separating topics-->\n"
   ]
  },
  {
   "cell_type": "markdown",
   "metadata": {
    "id": "zgX1AVJzwOnM"
   },
   "source": [
    "<h2>About the Authors:</h2> \n",
    "\n",
    "<a href=\"https://www.linkedin.com/in/joseph-s-50398b136/?utm_medium=Exinfluencer&utm_source=Exinfluencer&utm_content=000026UJ&utm_term=10006555&utm_id=NA-SkillsNetwork-Channel-SkillsNetworkCoursesIBMDeveloperSkillsNetworkDL0110ENSkillsNetwork20647811-2021-01-01\">Joseph Santarcangelo</a> has a PhD in Electrical Engineering, his research focused on using machine learning, signal processing, and computer vision to determine how videos impact human cognition. Joseph has been working for IBM since he completed his PhD.\n"
   ]
  },
  {
   "cell_type": "markdown",
   "metadata": {
    "id": "qv4w-64JwOnM"
   },
   "source": [
    "Other contributors: <a href=\"https://www.linkedin.com/in/michelleccarey/?utm_medium=Exinfluencer&utm_source=Exinfluencer&utm_content=000026UJ&utm_term=10006555&utm_id=NA-SkillsNetwork-Channel-SkillsNetworkCoursesIBMDeveloperSkillsNetworkDL0110ENSkillsNetwork20647811-2021-01-01\">Michelle Carey</a>, <a href=\"https://www.linkedin.com/in/jiahui-mavis-zhou-a4537814a?utm_medium=Exinfluencer&utm_source=Exinfluencer&utm_content=000026UJ&utm_term=10006555&utm_id=NA-SkillsNetwork-Channel-SkillsNetworkCoursesIBMDeveloperSkillsNetworkDL0110ENSkillsNetwork20647811-2021-01-01\">Mavis Zhou</a>\n"
   ]
  },
  {
   "cell_type": "markdown",
   "metadata": {
    "id": "vYWYC_vwwOnM"
   },
   "source": [
    "## Change Log\n",
    "\n",
    "| Date (YYYY-MM-DD) | Version | Changed By | Change Description                                          |\n",
    "| ----------------- | ------- | ---------- | ----------------------------------------------------------- |\n",
    "| 2020-09-21        | 2.0     | Shubham    | Migrated Lab to Markdown and added to course repo in GitLab |\n"
   ]
  },
  {
   "cell_type": "markdown",
   "metadata": {
    "id": "tlklBvuFwOnN"
   },
   "source": [
    "<hr>\n"
   ]
  },
  {
   "cell_type": "markdown",
   "metadata": {
    "id": "d1g5mbiowOnN"
   },
   "source": [
    "## <h3 align=\"center\"> © IBM Corporation 2020. All rights reserved. <h3/>\n"
   ]
  }
 ],
 "metadata": {
  "colab": {
   "name": "1.1_2_Two-Dimensional_Tensors_v2.ipynb",
   "provenance": []
  },
  "kernelspec": {
   "display_name": "Python 3 (ipykernel)",
   "language": "python",
   "name": "python3"
  },
  "language_info": {
   "codemirror_mode": {
    "name": "ipython",
    "version": 3
   },
   "file_extension": ".py",
   "mimetype": "text/x-python",
   "name": "python",
   "nbconvert_exporter": "python",
   "pygments_lexer": "ipython3",
   "version": "3.7.6"
  }
 },
 "nbformat": 4,
 "nbformat_minor": 4
}
