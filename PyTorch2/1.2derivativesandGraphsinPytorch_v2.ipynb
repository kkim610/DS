{
  "cells": [
    {
      "cell_type": "markdown",
      "metadata": {
        "id": "wxQD5ndFnf48"
      },
      "source": [
        "<center>\n",
        "    <img src=\"https://cf-courses-data.s3.us.cloud-object-storage.appdomain.cloud/IBMDeveloperSkillsNetwork-DL0110EN-SkillsNetwork/Template/module%201/images/IDSNlogo.png\" width=\"300\" alt=\"cognitiveclass.ai logo\"  />\n",
        "</center>\n"
      ]
    },
    {
      "cell_type": "markdown",
      "metadata": {
        "id": "fnhxeJBanf5C"
      },
      "source": [
        "<h1>Differentiation in PyTorch</h1> \n"
      ]
    },
    {
      "cell_type": "markdown",
      "metadata": {
        "id": "fS-C5pV9nf5D"
      },
      "source": [
        "<h2>Objective</h2><ul><li> How to perform differentiation in pytorch.</li></ul> \n"
      ]
    },
    {
      "cell_type": "markdown",
      "metadata": {
        "id": "FgmexQrknf5E"
      },
      "source": [
        "<h2>Table of Contents</h2>\n",
        "\n",
        "<p>In this lab, you will learn the basics of differentiation.</p> \n",
        "\n",
        "<ul>\n",
        "    <li><a href=\"https://#Derivative\">Derivatives</a></li>\n",
        "    <li><a href=\"https://#Partial_Derivative\">Partial Derivatives</a></li>\n",
        "</ul>\n",
        "\n",
        "<p>Estimated Time Needed: <strong>25 min</strong></p>\n",
        "<hr>\n"
      ]
    },
    {
      "cell_type": "markdown",
      "metadata": {
        "id": "pvyu0F0tnf5E"
      },
      "source": [
        "<h2>Preparation</h2>\n"
      ]
    },
    {
      "cell_type": "markdown",
      "metadata": {
        "id": "KBRI5_PKnf5F"
      },
      "source": [
        "The following are the libraries we are going to use for this lab.\n"
      ]
    },
    {
      "cell_type": "code",
      "execution_count": null,
      "metadata": {
        "id": "HU2zvvoznf5G"
      },
      "outputs": [],
      "source": [
        "# These are the libraries will be useing for this lab.\n",
        "\n",
        "import torch \n",
        "import matplotlib.pylab as plt\n"
      ]
    },
    {
      "cell_type": "code",
      "source": [
        "from google.colab import drive\n",
        "drive.mount('/content/drive')"
      ],
      "metadata": {
        "colab": {
          "base_uri": "https://localhost:8080/"
        },
        "id": "PyWdQ1zja2hs",
        "outputId": "5f2620f5-ccdb-49de-c193-48d3a15851a0"
      },
      "execution_count": null,
      "outputs": [
        {
          "output_type": "stream",
          "name": "stdout",
          "text": [
            "Drive already mounted at /content/drive; to attempt to forcibly remount, call drive.mount(\"/content/drive\", force_remount=True).\n"
          ]
        }
      ]
    },
    {
      "cell_type": "code",
      "source": [
        "cd drive/My Drive/class20221/DS_2022/PyTorch"
      ],
      "metadata": {
        "colab": {
          "base_uri": "https://localhost:8080/"
        },
        "id": "u8_UUDaEXazd",
        "outputId": "7fc8b26d-57aa-4d78-dfda-e9fe03f4fee7"
      },
      "execution_count": null,
      "outputs": [
        {
          "output_type": "stream",
          "name": "stdout",
          "text": [
            "[Errno 2] No such file or directory: 'drive/My Drive/class20221/DS_2022/PyTorch'\n",
            "/content/drive/My Drive/class20221/DS_2022/PyTorch\n"
          ]
        }
      ]
    },
    {
      "cell_type": "markdown",
      "metadata": {
        "id": "t1HDN9Jpnf5I"
      },
      "source": [
        "<!--Empty Space for separating topics-->\n"
      ]
    },
    {
      "cell_type": "markdown",
      "metadata": {
        "id": "t1PtOpEdnf5K"
      },
      "source": [
        "<h2 id=\"Derivative\">Derivatives (단일 함수의 도함수)</h2>\n",
        "도함수란 미분 계수를 알려주는 함수"
      ]
    },
    {
      "cell_type": "markdown",
      "metadata": {
        "id": "EZb0Nu_Xnf5L"
      },
      "source": [
        "Let us create the tensor <code>x</code> and set the parameter <code>requires_grad</code> to true because you are going to take the derivative of the tensor.\n"
      ]
    },
    {
      "cell_type": "code",
      "execution_count": null,
      "metadata": {
        "id": "NkBMUgxonf5L",
        "outputId": "d424e56b-9639-4271-aff7-67bf1869ef31",
        "colab": {
          "base_uri": "https://localhost:8080/"
        }
      },
      "outputs": [
        {
          "output_type": "stream",
          "name": "stdout",
          "text": [
            "The tensor x:  tensor(2., requires_grad=True)\n"
          ]
        }
      ],
      "source": [
        "# Create a tensor x\n",
        "\n",
        "x = torch.tensor(2.0, requires_grad = True)\n",
        "print(\"The tensor x: \", x)"
      ]
    },
    {
      "cell_type": "markdown",
      "metadata": {
        "id": "UcGWp5C2nf5M"
      },
      "source": [
        "Then let us create a tensor according to the equation $ y=x^2 $.\n"
      ]
    },
    {
      "cell_type": "code",
      "execution_count": null,
      "metadata": {
        "jupyter": {
          "outputs_hidden": false
        },
        "id": "ic7aRZKMnf5M",
        "outputId": "24efb2a2-aa7f-4bad-e5a5-f08da6f3ecaf",
        "colab": {
          "base_uri": "https://localhost:8080/"
        }
      },
      "outputs": [
        {
          "output_type": "stream",
          "name": "stdout",
          "text": [
            "The result of y = x^2:  tensor(4., grad_fn=<PowBackward0>)\n"
          ]
        }
      ],
      "source": [
        "# Create a tensor y according to y = x^2\n",
        "\n",
        "y = x ** 2\n",
        "print(\"The result of y = x^2: \", y)"
      ]
    },
    {
      "cell_type": "markdown",
      "metadata": {
        "id": "PGFZR81Tnf5N"
      },
      "source": [
        "Then let us take the derivative with respect x at x = 2\n"
      ]
    },
    {
      "cell_type": "code",
      "execution_count": null,
      "metadata": {
        "jupyter": {
          "outputs_hidden": false
        },
        "id": "adAelBtmnf5N",
        "outputId": "9c6bd1ac-1af6-48ac-b6ea-1dd4f9e70ce5",
        "colab": {
          "base_uri": "https://localhost:8080/"
        }
      },
      "outputs": [
        {
          "output_type": "stream",
          "name": "stdout",
          "text": [
            "The dervative at x = 2:  tensor(4.)\n"
          ]
        }
      ],
      "source": [
        "# Take the derivative. Try to print out the derivative at the value x = 2\n",
        "\n",
        "y.backward()\n",
        "print(\"The dervative at x = 2: \", x.grad)"
      ]
    },
    {
      "cell_type": "markdown",
      "metadata": {
        "id": "a1VD1d3hnf5N"
      },
      "source": [
        "The preceding lines perform the following operation:\n"
      ]
    },
    {
      "cell_type": "markdown",
      "metadata": {
        "id": "YRZlZEFKnf5O"
      },
      "source": [
        "$\\frac{\\mathrm{dy(x)}}{\\mathrm{dx}}=2x$\n"
      ]
    },
    {
      "cell_type": "markdown",
      "metadata": {
        "id": "62r2-TCznf5O"
      },
      "source": [
        "$\\frac{\\mathrm{dy(x=2)}}{\\mathrm{dx}}=2(2)=4$\n"
      ]
    },
    {
      "cell_type": "code",
      "execution_count": null,
      "metadata": {
        "id": "bRK2vJwunf5O"
      },
      "outputs": [],
      "source": [
        ""
      ]
    },
    {
      "cell_type": "code",
      "execution_count": null,
      "metadata": {
        "id": "55SsOJK-nf5P",
        "outputId": "4772cb5c-b9cb-4a7a-fb21-6f9b38a4fdb9",
        "colab": {
          "base_uri": "https://localhost:8080/"
        }
      },
      "outputs": [
        {
          "output_type": "stream",
          "name": "stdout",
          "text": [
            "data: tensor(2.)\n",
            "grad_fn: None\n",
            "grad: tensor(4.)\n",
            "is_leaf: True\n",
            "requires_grad: True\n"
          ]
        }
      ],
      "source": [
        "print('data:',x.data)\n",
        "print('grad_fn:',x.grad_fn)\n",
        "print('grad:',x.grad)\n",
        "print(\"is_leaf:\",x.is_leaf)\n",
        "print(\"requires_grad:\",x.requires_grad)"
      ]
    },
    {
      "cell_type": "code",
      "execution_count": null,
      "metadata": {
        "id": "pXqecFh3nf5P",
        "outputId": "e997cdc2-a274-4edc-eabc-fd18cb8bbfd2",
        "colab": {
          "base_uri": "https://localhost:8080/"
        }
      },
      "outputs": [
        {
          "output_type": "stream",
          "name": "stdout",
          "text": [
            "data: tensor(4.)\n",
            "grad_fn: <PowBackward0 object at 0x7f4bd9ffbcd0>\n",
            "grad: None\n",
            "is_leaf: False\n",
            "requires_grad: True\n"
          ]
        },
        {
          "output_type": "stream",
          "name": "stderr",
          "text": [
            "/usr/local/lib/python3.7/dist-packages/torch/_tensor.py:1013: UserWarning: The .grad attribute of a Tensor that is not a leaf Tensor is being accessed. Its .grad attribute won't be populated during autograd.backward(). If you indeed want the .grad field to be populated for a non-leaf Tensor, use .retain_grad() on the non-leaf Tensor. If you access the non-leaf Tensor by mistake, make sure you access the leaf Tensor instead. See github.com/pytorch/pytorch/pull/30531 for more informations. (Triggered internally at  aten/src/ATen/core/TensorBody.h:417.)\n",
            "  return self._grad\n"
          ]
        }
      ],
      "source": [
        "print('data:',y.data)\n",
        "print('grad_fn:',y.grad_fn)\n",
        "print('grad:',y.grad)\n",
        "print(\"is_leaf:\",y.is_leaf)\n",
        "print(\"requires_grad:\",y.requires_grad)"
      ]
    },
    {
      "cell_type": "markdown",
      "metadata": {
        "id": "wxwEVyXBnf5Q"
      },
      "source": [
        "Let us try to calculate the derivative for a more complicated function.\n"
      ]
    },
    {
      "cell_type": "code",
      "execution_count": null,
      "metadata": {
        "id": "CU5QhrTDnf5Q",
        "outputId": "41ae8cc2-4945-4d8f-8a21-bcefefbe2f27",
        "colab": {
          "base_uri": "https://localhost:8080/"
        }
      },
      "outputs": [
        {
          "output_type": "stream",
          "name": "stdout",
          "text": [
            "The result of y = x^2 + 2x + 1:  tensor(9., grad_fn=<AddBackward0>)\n",
            "The dervative at x = 2:  tensor(6.)\n"
          ]
        }
      ],
      "source": [
        "# Calculate the y = x^2 + 2x + 1, then find the derivative \n",
        "\n",
        "x = torch.tensor(2.0, requires_grad = True)\n",
        "y = x ** 2 + 2 * x + 1\n",
        "print(\"The result of y = x^2 + 2x + 1: \", y)\n",
        "y.backward()\n",
        "print(\"The dervative at x = 2: \", x.grad)"
      ]
    },
    {
      "cell_type": "markdown",
      "metadata": {
        "id": "f-orc-EZnf5R"
      },
      "source": [
        "The function is in the following form:\n",
        "$y=x^{2}+2x+1$\n"
      ]
    },
    {
      "cell_type": "markdown",
      "metadata": {
        "id": "FF_WHjAgnf5R"
      },
      "source": [
        "The derivative is given by:\n"
      ]
    },
    {
      "cell_type": "markdown",
      "metadata": {
        "id": "P2UAD30tnf5R"
      },
      "source": [
        "$\\frac{\\mathrm{dy(x)}}{\\mathrm{dx}}=2x+2$\n",
        "\n",
        "$\\frac{\\mathrm{dy(x=2)}}{\\mathrm{dx}}=2(2)+2=6$\n"
      ]
    },
    {
      "cell_type": "markdown",
      "metadata": {
        "id": "H0Tur7xRnf5R"
      },
      "source": [
        "<!--Empty Space for separating topics-->\n"
      ]
    },
    {
      "cell_type": "markdown",
      "metadata": {
        "id": "Vnj9N38bnf5S"
      },
      "source": [
        "<h3>Practice</h3>\n"
      ]
    },
    {
      "cell_type": "markdown",
      "metadata": {
        "id": "OW9_B77vnf5S"
      },
      "source": [
        "Determine the derivative of $ y = 2x^3+x $ at $x=1$\n"
      ]
    },
    {
      "cell_type": "code",
      "execution_count": null,
      "metadata": {
        "id": "q_JalHkZnf5S"
      },
      "outputs": [],
      "source": [
        "# Practice: Calculate the derivative of y = 2x^3 + x at x = 1\n",
        "\n",
        "# Type your code here"
      ]
    },
    {
      "cell_type": "markdown",
      "metadata": {
        "id": "M_nUm10Xnf5S"
      },
      "source": [
        "Double-click <b>here</b> for the solution.\n",
        "\n",
        "<!-- \n",
        "x = torch.tensor(1.0, requires_grad=True)\n",
        "y = 2 * x ** 3 + x\n",
        "y.backward()\n",
        "print(\"The derivative result: \", x.grad)\n",
        " -->\n"
      ]
    },
    {
      "cell_type": "markdown",
      "metadata": {
        "id": "UinSlO17nf5T"
      },
      "source": [
        "<!--Empty Space for separating topics-->\n"
      ]
    },
    {
      "cell_type": "markdown",
      "metadata": {
        "id": "lG_uonwGnf5T"
      },
      "source": [
        "We can implement our own custom autograd Functions by subclassing\n",
        "torch.autograd.Function and implementing the forward and backward passes\n",
        "which operate on Tensors\n"
      ]
    },
    {
      "cell_type": "code",
      "execution_count": null,
      "metadata": {
        "id": "dGnhCbPXnf5T"
      },
      "outputs": [],
      "source": [
        "class SQ(torch.autograd.Function):\n",
        "\n",
        "\n",
        "    @staticmethod\n",
        "    def forward(ctx,i):\n",
        "        \"\"\"\n",
        "        In the forward pass we receive a Tensor containing the input and return\n",
        "        a Tensor containing the output. ctx is a context object that can be used\n",
        "        to stash information for backward computation. You can cache arbitrary\n",
        "        objects for use in the backward pass using the ctx.save_for_backward method.\n",
        "        \"\"\"\n",
        "        result=i**2\n",
        "        ctx.save_for_backward(i)\n",
        "        return result\n",
        "\n",
        "    @staticmethod\n",
        "    def backward(ctx, grad_output):\n",
        "        \"\"\"\n",
        "        In the backward pass we receive a Tensor containing the gradient of the loss\n",
        "        with respect to the output, and we need to compute the gradient of the loss\n",
        "        with respect to the input.\n",
        "        \"\"\"\n",
        "        i, = ctx.saved_tensors\n",
        "        grad_output = 2*i\n",
        "        return grad_output"
      ]
    },
    {
      "cell_type": "markdown",
      "metadata": {
        "id": "keqQvy6znf5T"
      },
      "source": [
        "We can apply it the function\n"
      ]
    },
    {
      "cell_type": "code",
      "execution_count": null,
      "metadata": {
        "id": "vbEwCtKsnf5U",
        "outputId": "8a4ebd9d-b4a9-4408-fb14-93648867c58d",
        "colab": {
          "base_uri": "https://localhost:8080/"
        }
      },
      "outputs": [
        {
          "output_type": "stream",
          "name": "stdout",
          "text": [
            "<torch.autograd.function.SQBackward object at 0x7f4ad4c91140>\n"
          ]
        },
        {
          "output_type": "execute_result",
          "data": {
            "text/plain": [
              "tensor(4.)"
            ]
          },
          "metadata": {},
          "execution_count": 17
        }
      ],
      "source": [
        "x=torch.tensor(2.0,requires_grad=True )\n",
        "sq=SQ.apply\n",
        "\n",
        "y=sq(x)\n",
        "y\n",
        "print(y.grad_fn)\n",
        "y.backward()\n",
        "x.grad"
      ]
    },
    {
      "cell_type": "markdown",
      "metadata": {
        "id": "MacgOKetnf5U"
      },
      "source": [
        "<h2 id=\"Partial_Derivative\">Partial Derivatives (다변수 함수의) 편도함수</h2>\n"
      ]
    },
    {
      "cell_type": "markdown",
      "metadata": {
        "id": "IPTE81rZnf5U"
      },
      "source": [
        "We can also calculate <b>Partial Derivatives</b>. Consider the function: $f(u,v)=vu+u^{2}$\n"
      ]
    },
    {
      "cell_type": "markdown",
      "metadata": {
        "id": "hMwi4RCMnf5U"
      },
      "source": [
        "Let us create <code>u</code> tensor, <code>v</code> tensor and  <code>f</code> tensor\n"
      ]
    },
    {
      "cell_type": "code",
      "execution_count": null,
      "metadata": {
        "id": "915j9TQvnf5V",
        "outputId": "53771af8-4f9b-4a4f-961f-92723c623966",
        "colab": {
          "base_uri": "https://localhost:8080/"
        }
      },
      "outputs": [
        {
          "output_type": "stream",
          "name": "stdout",
          "text": [
            "The result of v * u + u^2:  tensor(3., grad_fn=<AddBackward0>)\n"
          ]
        }
      ],
      "source": [
        "# Calculate f(u, v) = v * u + u^2 at u = 1, v = 2\n",
        "\n",
        "u = torch.tensor(1.0,requires_grad=True)\n",
        "v = torch.tensor(2.0,requires_grad=True)\n",
        "f = u * v + u ** 2\n",
        "print(\"The result of v * u + u^2: \", f)"
      ]
    },
    {
      "cell_type": "markdown",
      "metadata": {
        "id": "5-M50Qennf5V"
      },
      "source": [
        "This is equivalent to the following:\n"
      ]
    },
    {
      "cell_type": "markdown",
      "metadata": {
        "id": "6opfNXFsnf5V"
      },
      "source": [
        "$f(u=1,v=2)=(2)(1)+1^{2}=3$\n"
      ]
    },
    {
      "cell_type": "markdown",
      "metadata": {
        "id": "UfSxJHrEnf5V"
      },
      "source": [
        "<!--Empty Space for separating topics-->\n"
      ]
    },
    {
      "cell_type": "markdown",
      "metadata": {
        "id": "XSX9TcCanf5V"
      },
      "source": [
        "Now let us take the derivative with respect to <code>u</code>:\n"
      ]
    },
    {
      "cell_type": "code",
      "execution_count": null,
      "metadata": {
        "id": "daI2cHZanf5V",
        "outputId": "2e383329-2eed-4980-d382-a9ed857fbc95",
        "colab": {
          "base_uri": "https://localhost:8080/"
        }
      },
      "outputs": [
        {
          "output_type": "stream",
          "name": "stdout",
          "text": [
            "The partial derivative with respect to u:  tensor(4.)\n"
          ]
        }
      ],
      "source": [
        "# Calculate the derivative with respect to u\n",
        "\n",
        "f.backward()\n",
        "print(\"The partial derivative with respect to u: \", u.grad)"
      ]
    },
    {
      "cell_type": "markdown",
      "metadata": {
        "id": "3Dzt7uRLnf5W"
      },
      "source": [
        "the expression is given by:\n"
      ]
    },
    {
      "cell_type": "markdown",
      "metadata": {
        "id": "sq1TSMEvnf5W"
      },
      "source": [
        "$\\frac{\\mathrm{\\partial f(u,v)}}{\\partial {u}}=v+2u$\n",
        "\n",
        "$\\frac{\\mathrm{\\partial f(u=1,v=2)}}{\\partial {u}}=2+2(1)=4$\n"
      ]
    },
    {
      "cell_type": "markdown",
      "metadata": {
        "id": "ABPOHQtAnf5W"
      },
      "source": [
        "<!--Empty Space for separating topics-->\n"
      ]
    },
    {
      "cell_type": "markdown",
      "metadata": {
        "id": "AEESKNYinf5W"
      },
      "source": [
        "Now, take the derivative with respect to <code>v</code>:\n"
      ]
    },
    {
      "cell_type": "code",
      "execution_count": null,
      "metadata": {
        "id": "G4pm4wZMnf5W",
        "outputId": "bbb95350-9ed9-45a9-dfb5-0f042fc514fd",
        "colab": {
          "base_uri": "https://localhost:8080/"
        }
      },
      "outputs": [
        {
          "output_type": "stream",
          "name": "stdout",
          "text": [
            "The partial derivative with respect to u:  tensor(1.)\n"
          ]
        }
      ],
      "source": [
        "# Calculate the derivative with respect to v\n",
        "\n",
        "print(\"The partial derivative with respect to u: \", v.grad)"
      ]
    },
    {
      "cell_type": "markdown",
      "metadata": {
        "id": "wX5OnyMUnf5W"
      },
      "source": [
        "The equation is given by:\n"
      ]
    },
    {
      "cell_type": "markdown",
      "metadata": {
        "id": "zR4_d6Mfnf5X"
      },
      "source": [
        "$\\frac{\\mathrm{\\partial f(u,v)}}{\\partial {v}}=u$\n",
        "\n",
        "$\\frac{\\mathrm{\\partial f(u=1,v=2)}}{\\partial {v}}=1$\n"
      ]
    },
    {
      "cell_type": "markdown",
      "metadata": {
        "id": "ysfzuPbmnf5X"
      },
      "source": [
        "<!--Empty Space for separating topics-->\n"
      ]
    },
    {
      "cell_type": "markdown",
      "metadata": {
        "id": "SbWBJWj9nf5X"
      },
      "source": [
        "Calculate the derivative with respect to a function with multiple values as follows. You use the sum trick to produce a scalar valued function and then take the gradient:\n"
      ]
    },
    {
      "cell_type": "code",
      "execution_count": null,
      "metadata": {
        "id": "9yqTOufRnf5X"
      },
      "outputs": [],
      "source": [
        "# Calculate the derivative with multiple values\n",
        "\n",
        "x = torch.linspace(-10, 10, 10, requires_grad = True)\n",
        "Y = x ** 2\n",
        "y = torch.sum(x ** 2)"
      ]
    },
    {
      "cell_type": "markdown",
      "metadata": {
        "id": "JToIoriCnf5X"
      },
      "source": [
        "We can plot the function  and its derivative\n"
      ]
    },
    {
      "cell_type": "code",
      "execution_count": null,
      "metadata": {
        "id": "PdRSGYSjnf5X",
        "outputId": "1996f7e8-15ea-4aa7-ff65-85c53cbcd142",
        "colab": {
          "base_uri": "https://localhost:8080/",
          "height": 279
        }
      },
      "outputs": [
        {
          "output_type": "display_data",
          "data": {
            "text/plain": [
              "<Figure size 432x288 with 1 Axes>"
            ],
            "image/png": "[encoded data removed]"
          },
          "metadata": {
            "needs_background": "light"
          }
        }
      ],
      "source": [
        "# Take the derivative with respect to multiple value. Plot out the function and its derivative\n",
        "\n",
        "y.backward()\n",
        "\n",
        "plt.plot(x.detach().numpy(), Y.detach().numpy(), label = 'function')\n",
        "plt.plot(x.detach().numpy(), x.grad.detach().numpy(), label = 'derivative')\n",
        "plt.xlabel('x')\n",
        "plt.legend()\n",
        "plt.show()"
      ]
    },
    {
      "cell_type": "markdown",
      "metadata": {
        "id": "9XxgZ9qCnf5X"
      },
      "source": [
        "The orange line is the slope of the blue line at the intersection point, which is the derivative of the blue line.\n"
      ]
    },
    {
      "cell_type": "markdown",
      "metadata": {
        "id": "eG5yCHD7nf5Y"
      },
      "source": [
        "The  method <code> detach()</code>  excludes further tracking of operations in the graph, and therefore the subgraph will not record operations. This allows us to then convert the tensor to a numpy array. To understand the sum operation  <a href=\"https://pytorch.org/tutorials/beginner/blitz/autograd_tutorial.html?utm_medium=Exinfluencer&utm_source=Exinfluencer&utm_content=000026UJ&utm_term=10006555&utm_id=NA-SkillsNetwork-Channel-SkillsNetworkCoursesIBMDeveloperSkillsNetworkDL0110ENSkillsNetwork20647811-2021-01-01\">Click Here</a>\n"
      ]
    },
    {
      "cell_type": "markdown",
      "metadata": {
        "id": "2plhsdFQnf5Y"
      },
      "source": [
        "<!--Empty Space for separating topics-->\n"
      ]
    },
    {
      "cell_type": "markdown",
      "metadata": {
        "id": "DkYR054lnf5Y"
      },
      "source": [
        "The <b>relu</b> activation function is an essential function in neural networks. We can take the derivative as follows:\n"
      ]
    },
    {
      "cell_type": "code",
      "execution_count": null,
      "metadata": {
        "collapsed": true,
        "jupyter": {
          "outputs_hidden": true
        },
        "id": "oTcEJmCHnf5Y"
      },
      "outputs": [],
      "source": [
        ""
      ]
    },
    {
      "cell_type": "code",
      "execution_count": null,
      "metadata": {
        "id": "0AdvlDRLnf5Y",
        "outputId": "dd2ef0fa-5e5d-4d2f-f177-0462b0e94025",
        "colab": {
          "base_uri": "https://localhost:8080/",
          "height": 279
        }
      },
      "outputs": [
        {
          "output_type": "display_data",
          "data": {
            "text/plain": [
              "<Figure size 432x288 with 1 Axes>"
            ],
            "image/png": "[encoded data removed]"
          },
          "metadata": {
            "needs_background": "light"
          }
        }
      ],
      "source": [
        "# Take the derivative of Relu with respect to multiple value. Plot out the function and its derivative\n",
        "\n",
        "x = torch.linspace(-10, 10, 1000, requires_grad = True)\n",
        "Y = torch.relu(x)\n",
        "y = Y.sum()\n",
        "y.backward()\n",
        "plt.plot(x.detach().numpy(), Y.detach().numpy(), label = 'function')\n",
        "plt.plot(x.detach().numpy(), x.grad.detach().numpy(), label = 'derivative')\n",
        "plt.xlabel('x')\n",
        "plt.legend()\n",
        "plt.show()"
      ]
    },
    {
      "cell_type": "markdown",
      "metadata": {
        "id": "0XDWP8LLnf5Y"
      },
      "source": [
        "<!--Empty Space for separating topics-->\n"
      ]
    },
    {
      "cell_type": "code",
      "execution_count": null,
      "metadata": {
        "id": "jZ4U36Sznf5Z",
        "outputId": "c62f657f-a3c0-4254-d952-e5570be51dbe",
        "colab": {
          "base_uri": "https://localhost:8080/"
        }
      },
      "outputs": [
        {
          "output_type": "execute_result",
          "data": {
            "text/plain": [
              "<SumBackward0 at 0x7f4ad3f39990>"
            ]
          },
          "metadata": {},
          "execution_count": 24
        }
      ],
      "source": [
        "y.grad_fn"
      ]
    },
    {
      "cell_type": "code",
      "source": [
        ""
      ],
      "metadata": {
        "id": "o9xRrOEVT3jN"
      },
      "execution_count": null,
      "outputs": []
    },
    {
      "cell_type": "markdown",
      "source": [
        "<h2 id=\"Partial_Derivative\">Gradient (다변수 함수의) 도함수</h2>"
      ],
      "metadata": {
        "id": "AxoeHzOHT0BN"
      }
    },
    {
      "cell_type": "code",
      "source": [
        "from IPython.display import Image\n",
        "Image(\"partial.png\", width=200, height=200)"
      ],
      "metadata": {
        "colab": {
          "base_uri": "https://localhost:8080/",
          "height": 217
        },
        "id": "EcQ4KL72UATp",
        "outputId": "4e4fc577-b3b4-43ba-eeb9-1b8cd1784492"
      },
      "execution_count": null,
      "outputs": [
        {
          "output_type": "execute_result",
          "data": {
            "text/plain": [
              "<IPython.core.display.Image object>"
            ],
            "image/png": "[encoded data removed]"
          },
          "metadata": {
            "image/png": {
              "width": 200,
              "height": 200
            }
          },
          "execution_count": 25
        }
      ]
    },
    {
      "cell_type": "code",
      "source": [
        "from IPython.display import Image\n",
        "Image(\"gradient.png\", width=200, height=200)"
      ],
      "metadata": {
        "colab": {
          "base_uri": "https://localhost:8080/",
          "height": 217
        },
        "id": "eV4pBRoIbMvE",
        "outputId": "258020fa-3162-4617-decc-efb082f55068"
      },
      "execution_count": null,
      "outputs": [
        {
          "output_type": "execute_result",
          "data": {
            "text/plain": [
              "<IPython.core.display.Image object>"
            ],
            "image/png": "[encoded data removed]"
          },
          "metadata": {
            "image/png": {
              "width": 200,
              "height": 200
            }
          },
          "execution_count": 26
        }
      ]
    },
    {
      "cell_type": "markdown",
      "metadata": {
        "id": "ZjkPrICdnf5Z"
      },
      "source": [
        "<h3>Practice</h3>\n"
      ]
    },
    {
      "cell_type": "markdown",
      "metadata": {
        "id": "RFkWTtOonf5Z"
      },
      "source": [
        "Try to determine partial derivative  $u$ of the following function where $u=2$ and $v=1$: $ f=uv+(uv)^2$\n"
      ]
    },
    {
      "cell_type": "code",
      "execution_count": null,
      "metadata": {
        "id": "dD1cwIbunf5Z"
      },
      "outputs": [],
      "source": [
        "# Practice: Calculate the derivative of f = u * v + (u * v) ** 2 at u = 2, v = 1\n",
        "\n",
        "# Type the code here"
      ]
    },
    {
      "cell_type": "markdown",
      "metadata": {
        "id": "G4x6kRosnf5Z"
      },
      "source": [
        "Double-click **here** for the solution.\n",
        "\n",
        "<!-- \n",
        "u = torch.tensor(2.0, requires_grad = True)\n",
        "v = torch.tensor(1.0, requires_grad = True)\n",
        "f = u * v + (u * v) ** 2\n",
        "f.backward()\n",
        "print(\"The result is \", u.grad)\n",
        " -->\n"
      ]
    },
    {
      "cell_type": "markdown",
      "metadata": {
        "id": "4UKESR1xnf5Z"
      },
      "source": [
        "<a href=\"https://dataplatform.cloud.ibm.com/registration/stepone?utm_medium=Exinfluencer&utm_source=Exinfluencer&utm_content=000026UJ&utm_term=10006555&utm_id=NA-SkillsNetwork-Channel-SkillsNetworkCoursesIBMDeveloperSkillsNetworkDL0110ENSkillsNetwork20647811-2021-01-01&context=cpdaas&apps=data_science_experience%2Cwatson_machine_learning\"><img src=\"https://cf-courses-data.s3.us.cloud-object-storage.appdomain.cloud/IBMDeveloperSkillsNetwork-DL0110EN-SkillsNetwork/Template/module%201/images/Watson_Studio.png\"/></a>\n"
      ]
    },
    {
      "cell_type": "markdown",
      "metadata": {
        "id": "ughsc7IWnf5a"
      },
      "source": [
        "<h2>About the Authors:</h2> \n",
        "\n",
        "<a href=\"https://www.linkedin.com/in/joseph-s-50398b136/?utm_medium=Exinfluencer&utm_source=Exinfluencer&utm_content=000026UJ&utm_term=10006555&utm_id=NA-SkillsNetwork-Channel-SkillsNetworkCoursesIBMDeveloperSkillsNetworkDL0110ENSkillsNetwork20647811-2021-01-01\">Joseph Santarcangelo</a> has a PhD in Electrical Engineering, his research focused on using machine learning, signal processing, and computer vision to determine how videos impact human cognition. Joseph has been working for IBM since he completed his PhD.\n"
      ]
    },
    {
      "cell_type": "markdown",
      "metadata": {
        "id": "pdLyk6iGnf5a"
      },
      "source": [
        "Other contributors: <a href=\"https://www.linkedin.com/in/michelleccarey/?utm_medium=Exinfluencer&utm_source=Exinfluencer&utm_content=000026UJ&utm_term=10006555&utm_id=NA-SkillsNetwork-Channel-SkillsNetworkCoursesIBMDeveloperSkillsNetworkDL0110ENSkillsNetwork20647811-2021-01-01\">Michelle Carey</a>, <a href=\"https://www.linkedin.com/in/jiahui-mavis-zhou-a4537814a?utm_medium=Exinfluencer&utm_source=Exinfluencer&utm_content=000026UJ&utm_term=10006555&utm_id=NA-SkillsNetwork-Channel-SkillsNetworkCoursesIBMDeveloperSkillsNetworkDL0110ENSkillsNetwork20647811-2021-01-01\">Mavis Zhou</a>\n"
      ]
    },
    {
      "cell_type": "markdown",
      "metadata": {
        "id": "3Sz5yfWJnf5a"
      },
      "source": [
        "## Change Log\n",
        "\n",
        "| Date (YYYY-MM-DD) | Version | Changed By | Change Description                                          |\n",
        "| ----------------- | ------- | ---------- | ----------------------------------------------------------- |\n",
        "| 2020-09-21        | 2.0     | Shubham    | Migrated Lab to Markdown and added to course repo in GitLab |\n"
      ]
    },
    {
      "cell_type": "markdown",
      "metadata": {
        "id": "y1byox6Lnf5a"
      },
      "source": [
        "<hr>\n"
      ]
    },
    {
      "cell_type": "markdown",
      "metadata": {
        "id": "rbifq3minf5a"
      },
      "source": [
        "## <h3 align=\"center\"> © IBM Corporation 2020. All rights reserved. <h3/>\n"
      ]
    }
  ],
  "metadata": {
    "kernelspec": {
      "display_name": "Python 3",
      "language": "python",
      "name": "python3"
    },
    "language_info": {
      "codemirror_mode": {
        "name": "ipython",
        "version": 3
      },
      "file_extension": ".py",
      "mimetype": "text/x-python",
      "name": "python",
      "nbconvert_exporter": "python",
      "pygments_lexer": "ipython3",
      "version": "3.7.6"
    },
    "colab": {
      "name": "1.2derivativesandGraphsinPytorch_v2.ipynb",
      "provenance": [],
      "collapsed_sections": [
        "3Sz5yfWJnf5a",
        "rbifq3minf5a"
      ]
    }
  },
  "nbformat": 4,
  "nbformat_minor": 0
}